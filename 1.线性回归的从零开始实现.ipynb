#3.2.1生成数据集
from mxnet.ndarray.ndarray import Features
%matplotlib inline
import random
!pip install mxnet-cu112
!pip install d2l==0.14
from mxnet import autograd,np,npx
from d2l import mxnet as d2l
#npx.set_up()         
def synthetic_data(w,b,num_examples):
  X=np.random.normal(0,1,(num_examples,len(w)))
  y=np.dot(X,w)+b
  y+=np.random.normal(0,0.01,y.shape)
  return X,y.reshape((-1,1))
true_w=np.array([2,-3.4])
true_b=4.2
features,labels=synthetic_data(true_w,true_b,1000)
print('features:',features[0],'\nlabels:',labels[0])
d2l.set_figsize()
d2l.plt.scatter(features[:,(1)].asnumpy(),labels.asnumpy(),1);
#3.2.2读取数据集
def data_iter(batch_size,features,labels):
  num_examples=len(features)
  indices=list(range(num_examples))
  random.shuffle(indices)
  for i in range(0,num_examples,batch_size):
    batch_indices=np.array(indices[i:min(i+batch_size,num_examples)])
    yield features[batch_indices],labels[batch_indices]
batch_size=10
'''for X,y in data_iter(batch_size,features,labels):
  print(X,'\n',y)
  break'''
#3.2.3初始化模型参数(任务是更新这些参数，每次更新都需要计算损失函数关于模型参数的梯度)
w=np.random.normal(0,0.01,(2,1))
b=np.zeros(1)
w.attach_grad()             #通过调用attach_grad来为一个张量的梯度分配内存
b.attach_grad()
#3.2.4定义模型
def linreg(X,w,b):
  return np.dot(X,w)+b
#3.2.5定义损失函数
def squared_loss(y_hat,y):
  return(y_hat-y.reshape(y_hat.shape))**2/2
#3.2.6定义优化算法???
def sgd(params,lr,batch_size):
  for param in params:
    param[:]=param-lr*param.grad/batch_size
#3.2.7训练
lr=0.03
num_epochs=3
net=linreg
loss=squared_loss
for epoch in range(num_epochs):
  for X,y in data_iter(batch_size,features,labels):
    with autograd.record():      #保存梯度，这里的梯度算的是w和b的
      l=loss(net(X,w,b),y)
    l.backward()      #根据反向传播自动计算y关于x每个分量的梯度
    sgd([w,b],lr,batch_size)
  train_l=loss(net(features,w,b),labels)
  print(f'epoch{epoch+1},loss{float(train_l.mean()):f}')
print(f'w的估计误差：{true_w-w.reshape(true_w.shape)}')
print(f'b的估计误差：{true_b-b}')


